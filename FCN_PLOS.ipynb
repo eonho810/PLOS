{
  "nbformat": 4,
  "nbformat_minor": 0,
  "metadata": {
    "colab": {
      "name": "FCN_PLOS.ipynb",
      "provenance": [],
      "collapsed_sections": [],
      "machine_shape": "hm"
    },
    "kernelspec": {
      "name": "python3",
      "display_name": "Python 3"
    }
  },
  "cells": [
    {
      "cell_type": "markdown",
      "source": [
        "## Import libraries"
      ],
      "metadata": {
        "id": "ndQkGo5u0p4w"
      }
    },
    {
      "cell_type": "code",
      "metadata": {
        "id": "32_UOgnYHEe4",
        "colab": {
          "base_uri": "https://localhost:8080/",
          "height": 127
        },
        "outputId": "d4e43344-3b65-4402-941d-f6ca90a60d6a"
      },
      "source": [
        "from google.colab import drive\n",
        "drive.mount('/content/gdrive')"
      ],
      "execution_count": null,
      "outputs": [
        {
          "output_type": "stream",
          "text": [
            "Go to this URL in a browser: https://accounts.google.com/o/oauth2/auth?client_id=947318989803-6bn6qk8qdgf4n4g3pfee6491hc0brc4i.apps.googleusercontent.com&redirect_uri=urn%3aietf%3awg%3aoauth%3a2.0%3aoob&scope=email%20https%3a%2f%2fwww.googleapis.com%2fauth%2fdocs.test%20https%3a%2f%2fwww.googleapis.com%2fauth%2fdrive%20https%3a%2f%2fwww.googleapis.com%2fauth%2fdrive.photos.readonly%20https%3a%2f%2fwww.googleapis.com%2fauth%2fpeopleapi.readonly&response_type=code\n",
            "\n",
            "Enter your authorization code:\n",
            "··········\n",
            "Mounted at /content/gdrive\n"
          ],
          "name": "stdout"
        }
      ]
    },
    {
      "cell_type": "code",
      "metadata": {
        "id": "TEWg_y8aVRfG"
      },
      "source": [
        "#==========================================================\n",
        "#\n",
        "#  This prepare the hdf5 datasets of the DRIVE database\n",
        "#\n",
        "#============================================================"
      ],
      "execution_count": null,
      "outputs": []
    },
    {
      "cell_type": "code",
      "metadata": {
        "id": "r6nJodPrUfZu"
      },
      "source": [
        "#!pip install h5py"
      ],
      "execution_count": null,
      "outputs": []
    },
    {
      "cell_type": "code",
      "metadata": {
        "id": "IHVNvImMUleo"
      },
      "source": [
        "import h5py"
      ],
      "execution_count": null,
      "outputs": []
    },
    {
      "cell_type": "code",
      "metadata": {
        "id": "JmDVJltOUpSc"
      },
      "source": [
        "import os\n",
        "import matplotlib.pyplot as plt\n",
        "import numpy as np\n",
        "from PIL import Image\n",
        "\n",
        "import tensorflow.compat.v1 as tf\n",
        "tf.disable_v2_behavior()\n",
        "#import tensorflow as tf\n",
        "#tf.compat.v1.disable_eager_execution()\n",
        "\n",
        "from keras.applications.vgg16 import VGG16"
      ],
      "execution_count": null,
      "outputs": []
    },
    {
      "cell_type": "code",
      "metadata": {
        "id": "wPzjfOPMUplL"
      },
      "source": [
        "def write_hdf5(arr,outfile):\n",
        "  with h5py.File(outfile,\"w\") as f:\n",
        "    f.create_dataset(\"image\", data=arr, dtype=arr.dtype)\n",
        "    \n",
        "def load_hdf5(infile):\n",
        "  with h5py.File(infile,\"r\") as f:  #\"with\" close the file after its nested commands\n",
        "    return f[\"image\"][()]"
      ],
      "execution_count": null,
      "outputs": []
    },
    {
      "cell_type": "markdown",
      "source": [
        "## Load the dataset"
      ],
      "metadata": {
        "id": "No9zoDBE0ulC"
      }
    },
    {
      "cell_type": "code",
      "metadata": {
        "id": "33DTkDOLUpoP"
      },
      "source": [
        "#------------Path of the images --------------------------------------------------------------\n",
        "#train\n",
        "original_imgs_train = \"gdrive/My Drive/PLOS/Total_FCN_train_200_SY/images/\"\n",
        "groundTruth_imgs_train = \"gdrive/My Drive/PLOS/Total_FCN_train_SY_real/1st_manual/\"\n",
        "#---------------------------------------------------------------------------------------------"
      ],
      "execution_count": null,
      "outputs": []
    },
    {
      "cell_type": "code",
      "metadata": {
        "id": "K-8pU2AGqOCX"
      },
      "source": [
        "#------------Path of the images --------------------------------------------------------------\n",
        "#test\n",
        "original_imgs_test = \"/content/gdrive/My Drive/PLOS/Experimental_method/05_test/test/\"\n",
        "#---------------------------------------------------------------------------------------------"
      ],
      "execution_count": null,
      "outputs": []
    },
    {
      "cell_type": "code",
      "metadata": {
        "id": "9MYTCYRCUprI"
      },
      "source": [
        "Nimgs = 200\n",
        "Ntest = 80\n",
        "channels = 3\n",
        "height = 480\n",
        "width = 640\n",
        "dataset_path = \"gdrive/My Drive/PLOS/DRIVE_datasets_training_testing1/\""
      ],
      "execution_count": null,
      "outputs": []
    },
    {
      "cell_type": "code",
      "metadata": {
        "id": "yJ30Jpl3WOQR"
      },
      "source": [
        "def get_datasets(imgs_dir,groundTruth_dir):\n",
        "    imgs = np.empty((Nimgs,height,width,channels))\n",
        "    groundTruth = np.empty((Nimgs,height,width,2)) # depend on object#3\n",
        "    for path, subdirs, files in os.walk(imgs_dir): #list all files, directories in the path\n",
        "        for i in range(len(files)):\n",
        "            #original\n",
        "            print (\"original image: \" +files[i])\n",
        "            img = Image.open(imgs_dir+files[i])\n",
        "            img = img.resize((width,height), Image.ANTIALIAS)\n",
        "            temp = np.asarray(img)/255\n",
        "            #temp = np.append(temp, np.zeros((584,11,3)), axis = 1)\n",
        "            #temp = temp[:height, :width, :]\n",
        "            imgs[i] = temp\n",
        "            #corresponding ground truth\n",
        "            groundTruth_name = files[i][0:4] + \".gif\"\n",
        "            print (\"ground truth name: \" + groundTruth_name)\n",
        "            g_truth = Image.open(groundTruth_dir + groundTruth_name)\n",
        "            g_truth = g_truth.resize((width,height), Image.ANTIALIAS)\n",
        "            temp = np.asarray(g_truth)/255\n",
        "            a = (np.max(temp)+np.min(temp))/2.0\n",
        "            temp = (temp>a) * 1.0\n",
        "            #temp = np.append(temp, np.zeros((584,11)), axis = 1)\n",
        "            #temp = temp[:height, :width]\n",
        "            \n",
        "            if files[i][1] == '0' or files[i][1] == '1' : # depend on object\n",
        "                groundTruth[i,:,:,0] = temp\n",
        "                \n",
        "#            elif files[i][0] == '1':\n",
        "#                groundTruth[i,:,:,1] = temp\n",
        "#                \n",
        "#            elif files[i][0] == '2':\n",
        "#                groundTruth[i,:,:,2] = temp\n",
        "#                \n",
        "#            elif files[i][0] == '3':\n",
        "#                groundTruth[i,:,:,3] = temp\n",
        "            \n",
        "            groundTruth[i,:,:,1] = 1 - temp\n",
        "            \n",
        "    print (\"imgs max: \" +str(np.max(imgs)))\n",
        "    print (\"imgs min: \" +str(np.min(imgs)))\n",
        "    print (\"ground truth are correctly withih pixel value range 0-255 (black-white)\")\n",
        "    return imgs, groundTruth"
      ],
      "execution_count": null,
      "outputs": []
    },
    {
      "cell_type": "code",
      "metadata": {
        "id": "DiblX3q4xivZ"
      },
      "source": [
        "def get_datasets2(test_dir):\n",
        "    test = np.empty((Ntest,height,width,channels))\n",
        "    \n",
        "    for path, subdirs, files in os.walk(test_dir): #list all files, directories in the path\n",
        "        #for j in range(len(files)):\n",
        "          for i in range(len(files)):\n",
        "            #if files[i][0:3] == '%03d' %j :\n",
        "              #test\n",
        "              print (\"test image: \" +files[i] + str(i))\n",
        "              img = Image.open(test_dir+files[i])\n",
        "              img = img.resize((width,height), Image.ANTIALIAS)\n",
        "              temp = np.asarray(img)/255\n",
        "              #temp = np.append(temp, np.zeros((584,11,3)), axis = 1)\n",
        "              #temp = temp[:height, :width, :]\n",
        "              test[i] = temp\n",
        "              \n",
        "            \n",
        "    print (\"test max: \" +str(np.max(test)))\n",
        "    print (\"test min: \" +str(np.min(test)))\n",
        "    return test"
      ],
      "execution_count": null,
      "outputs": []
    },
    {
      "cell_type": "code",
      "metadata": {
        "id": "6yKL9tbEWOXk"
      },
      "source": [
        "if not os.path.exists(dataset_path):\n",
        "    os.makedirs(dataset_path)\n",
        "\n",
        "imgs_train, groundTruth_train = get_datasets(original_imgs_train,groundTruth_imgs_train)\n",
        "imgs_test = get_datasets2(original_imgs_test)\n",
        "print (\"saving test datasets\")\n",
        "write_hdf5(imgs_train,dataset_path + \"DRIVE_dataset_imgs_train.hdf5\")\n",
        "write_hdf5(imgs_test,dataset_path + \"DRIVE_dataset_imgs_test.hdf5\")\n",
        "write_hdf5(groundTruth_train, dataset_path + \"DRIVE_dataset_groundTruth_train.hdf5\")"
      ],
      "execution_count": null,
      "outputs": []
    },
    {
      "cell_type": "code",
      "metadata": {
        "id": "EyFsgXDeaOmF"
      },
      "source": [
        "DRIVE_train_imgs_original = dataset_path + \"DRIVE_dataset_imgs_train.hdf5\"\n",
        "DRIVE_test_imgs_original = dataset_path + \"DRIVE_dataset_imgs_test.hdf5\"\n",
        "DRIVE_train_groudTruth = dataset_path + \"DRIVE_dataset_groundTruth_train.hdf5\"  #masks"
      ],
      "execution_count": null,
      "outputs": []
    },
    {
      "cell_type": "code",
      "metadata": {
        "id": "gQ2SWCYHckLj"
      },
      "source": [
        "train_imgs = load_hdf5(DRIVE_train_imgs_original)\n",
        "test_imgs = load_hdf5(DRIVE_test_imgs_original)\n",
        "train_seg = load_hdf5(DRIVE_train_groudTruth)"
      ],
      "execution_count": null,
      "outputs": []
    },
    {
      "cell_type": "code",
      "metadata": {
        "id": "cndzGsZ4x3zc",
        "colab": {
          "base_uri": "https://localhost:8080/",
          "height": 35
        },
        "outputId": "e6b5f19e-2e91-4ca0-f975-3211ede74f63"
      },
      "source": [
        "#train_imgs = np.delete(train_imgs, 0, 2)\n",
        "#train_imgs = np.append(train_imgs, np.zeros(1,height,), axis = 2)\n",
        "test_imgs.shape"
      ],
      "execution_count": null,
      "outputs": [
        {
          "output_type": "execute_result",
          "data": {
            "text/plain": [
              "(80, 480, 640, 3)"
            ]
          },
          "metadata": {
            "tags": []
          },
          "execution_count": 27
        }
      ]
    },
    {
      "cell_type": "code",
      "metadata": {
        "id": "GDE82Qrdd0m1",
        "colab": {
          "base_uri": "https://localhost:8080/",
          "height": 35
        },
        "outputId": "f6729f9a-a745-48ce-d455-0d9e76397f5e"
      },
      "source": [
        "#train_seg = np.delete(train_seg, 0, 2)\n",
        "train_seg.shape"
      ],
      "execution_count": null,
      "outputs": [
        {
          "output_type": "execute_result",
          "data": {
            "text/plain": [
              "(200, 480, 640, 2)"
            ]
          },
          "metadata": {
            "tags": []
          },
          "execution_count": 26
        }
      ]
    },
    {
      "cell_type": "code",
      "metadata": {
        "id": "jTvRE9L5zZ2p"
      },
      "source": [
        "np.max(train_imgs[0])"
      ],
      "execution_count": null,
      "outputs": []
    },
    {
      "cell_type": "code",
      "metadata": {
        "id": "R6Poo-pDd4N4"
      },
      "source": [
        "np.max(train_seg[90, :, :, 1])"
      ],
      "execution_count": null,
      "outputs": []
    },
    {
      "cell_type": "code",
      "metadata": {
        "id": "9-O8pai1P3LI"
      },
      "source": [
        "np.min(train_seg[0, :, :, 1])"
      ],
      "execution_count": null,
      "outputs": []
    },
    {
      "cell_type": "code",
      "metadata": {
        "id": "YMxbUwOiYyQ8"
      },
      "source": [
        "np.min(train_seg[0, :, :, 1] > 0.994)"
      ],
      "execution_count": null,
      "outputs": []
    },
    {
      "cell_type": "code",
      "metadata": {
        "id": "Dr3JIY7YtqKT",
        "colab": {
          "base_uri": "https://localhost:8080/",
          "height": 287
        },
        "outputId": "0529bdd7-7f53-40f3-d9f3-54713e380448"
      },
      "source": [
        "plt.imshow(test_imgs[51])"
      ],
      "execution_count": null,
      "outputs": [
        {
          "output_type": "execute_result",
          "data": {
            "text/plain": [
              "<matplotlib.image.AxesImage at 0x7f9547634cc0>"
            ]
          },
          "metadata": {
            "tags": []
          },
          "execution_count": 30
        },
        {
          "output_type": "display_data",
          "data": {
            "image/png": "[encoded data removed]",
            "text/plain": [
              "<Figure size 432x288 with 1 Axes>"
            ]
          },
          "metadata": {
            "tags": [],
            "needs_background": "light"
          }
        }
      ]
    },
    {
      "cell_type": "code",
      "metadata": {
        "id": "536OQiaCPrd-",
        "colab": {
          "base_uri": "https://localhost:8080/",
          "height": 287
        },
        "outputId": "5b7216bf-f6ef-4241-ba4f-0d2001204d89"
      },
      "source": [
        "idx = np.random.randint(Nimgs)\n",
        "plt.imshow(train_imgs[idx])"
      ],
      "execution_count": null,
      "outputs": [
        {
          "output_type": "execute_result",
          "data": {
            "text/plain": [
              "<matplotlib.image.AxesImage at 0x7f855fc90da0>"
            ]
          },
          "metadata": {
            "tags": []
          },
          "execution_count": 32
        },
        {
          "output_type": "display_data",
          "data": {
            "image/png": "[encoded data removed]",
            "text/plain": [
              "<Figure size 432x288 with 1 Axes>"
            ]
          },
          "metadata": {
            "tags": [],
            "needs_background": "light"
          }
        }
      ]
    },
    {
      "cell_type": "code",
      "metadata": {
        "id": "dhkAMCgReBt8",
        "colab": {
          "base_uri": "https://localhost:8080/",
          "height": 287
        },
        "outputId": "547fa806-e150-444b-952b-a9feccea716e"
      },
      "source": [
        "plt.imshow(train_seg[idx][:,:,0])"
      ],
      "execution_count": null,
      "outputs": [
        {
          "output_type": "execute_result",
          "data": {
            "text/plain": [
              "<matplotlib.image.AxesImage at 0x7fb3aa239978>"
            ]
          },
          "metadata": {
            "tags": []
          },
          "execution_count": 59
        },
        {
          "output_type": "display_data",
          "data": {
            "image/png": "[encoded data removed]",
            "text/plain": [
              "<Figure size 432x288 with 1 Axes>"
            ]
          },
          "metadata": {
            "tags": [],
            "needs_background": "light"
          }
        }
      ]
    },
    {
      "cell_type": "code",
      "metadata": {
        "id": "0PLKar39e9kQ"
      },
      "source": [
        "plt.imshow(train_seg[idx][:,:,1])"
      ],
      "execution_count": null,
      "outputs": []
    },
    {
      "cell_type": "code",
      "metadata": {
        "id": "ZjHvDms0N0uC"
      },
      "source": [
        "plt.imshow(train_seg[idx][:,:,2])"
      ],
      "execution_count": null,
      "outputs": []
    },
    {
      "cell_type": "code",
      "metadata": {
        "id": "Q5ILS5u-Wlol"
      },
      "source": [
        "plt.imshow(train_seg[idx][:,:,3])"
      ],
      "execution_count": null,
      "outputs": []
    },
    {
      "cell_type": "code",
      "metadata": {
        "id": "lDPBkG3dWrN8"
      },
      "source": [
        "plt.imshow(train_seg[idx][:,:,4])"
      ],
      "execution_count": null,
      "outputs": []
    },
    {
      "cell_type": "markdown",
      "source": [
        "## Training"
      ],
      "metadata": {
        "id": "fRo87RpI1J5b"
      }
    },
    {
      "cell_type": "code",
      "metadata": {
        "id": "J8IJlh2EfBqb",
        "colab": {
          "base_uri": "https://localhost:8080/",
          "height": 989
        },
        "outputId": "617997a9-b3ac-4dbd-cd0f-83d4338d8611"
      },
      "source": [
        "model = VGG16(weights = 'imagenet')\n",
        "\n",
        "model.summary()"
      ],
      "execution_count": null,
      "outputs": [
        {
          "output_type": "stream",
          "text": [
            "Model: \"vgg16\"\n",
            "_________________________________________________________________\n",
            "Layer (type)                 Output Shape              Param #   \n",
            "=================================================================\n",
            "input_2 (InputLayer)         [(None, 224, 224, 3)]     0         \n",
            "_________________________________________________________________\n",
            "block1_conv1 (Conv2D)        (None, 224, 224, 64)      1792      \n",
            "_________________________________________________________________\n",
            "block1_conv2 (Conv2D)        (None, 224, 224, 64)      36928     \n",
            "_________________________________________________________________\n",
            "block1_pool (MaxPooling2D)   (None, 112, 112, 64)      0         \n",
            "_________________________________________________________________\n",
            "block2_conv1 (Conv2D)        (None, 112, 112, 128)     73856     \n",
            "_________________________________________________________________\n",
            "block2_conv2 (Conv2D)        (None, 112, 112, 128)     147584    \n",
            "_________________________________________________________________\n",
            "block2_pool (MaxPooling2D)   (None, 56, 56, 128)       0         \n",
            "_________________________________________________________________\n",
            "block3_conv1 (Conv2D)        (None, 56, 56, 256)       295168    \n",
            "_________________________________________________________________\n",
            "block3_conv2 (Conv2D)        (None, 56, 56, 256)       590080    \n",
            "_________________________________________________________________\n",
            "block3_conv3 (Conv2D)        (None, 56, 56, 256)       590080    \n",
            "_________________________________________________________________\n",
            "block3_pool (MaxPooling2D)   (None, 28, 28, 256)       0         \n",
            "_________________________________________________________________\n",
            "block4_conv1 (Conv2D)        (None, 28, 28, 512)       1180160   \n",
            "_________________________________________________________________\n",
            "block4_conv2 (Conv2D)        (None, 28, 28, 512)       2359808   \n",
            "_________________________________________________________________\n",
            "block4_conv3 (Conv2D)        (None, 28, 28, 512)       2359808   \n",
            "_________________________________________________________________\n",
            "block4_pool (MaxPooling2D)   (None, 14, 14, 512)       0         \n",
            "_________________________________________________________________\n",
            "block5_conv1 (Conv2D)        (None, 14, 14, 512)       2359808   \n",
            "_________________________________________________________________\n",
            "block5_conv2 (Conv2D)        (None, 14, 14, 512)       2359808   \n",
            "_________________________________________________________________\n",
            "block5_conv3 (Conv2D)        (None, 14, 14, 512)       2359808   \n",
            "_________________________________________________________________\n",
            "block5_pool (MaxPooling2D)   (None, 7, 7, 512)         0         \n",
            "_________________________________________________________________\n",
            "flatten (Flatten)            (None, 25088)             0         \n",
            "_________________________________________________________________\n",
            "fc1 (Dense)                  (None, 4096)              102764544 \n",
            "_________________________________________________________________\n",
            "fc2 (Dense)                  (None, 4096)              16781312  \n",
            "_________________________________________________________________\n",
            "predictions (Dense)          (None, 1000)              4097000   \n",
            "=================================================================\n",
            "Total params: 138,357,544\n",
            "Trainable params: 138,357,544\n",
            "Non-trainable params: 0\n",
            "_________________________________________________________________\n"
          ],
          "name": "stdout"
        }
      ]
    },
    {
      "cell_type": "code",
      "metadata": {
        "id": "QNSifQ8efBm2"
      },
      "source": [
        "vgg16_weights = model.get_weights()\n",
        "\n",
        "weights = {\n",
        "    'conv1_1' : tf.constant(vgg16_weights[0]),\n",
        "    'conv1_2' : tf.constant(vgg16_weights[2]),\n",
        "    \n",
        "    'conv2_1' : tf.constant(vgg16_weights[4]),\n",
        "    'conv2_2' : tf.constant(vgg16_weights[6]),\n",
        "    \n",
        "    'conv3_1' : tf.constant(vgg16_weights[8]),\n",
        "    'conv3_2' : tf.constant(vgg16_weights[10]),\n",
        "    'conv3_3' : tf.constant(vgg16_weights[12]),\n",
        "    \n",
        "    'conv4_1' : tf.constant(vgg16_weights[14]),\n",
        "    'conv4_2' : tf.constant(vgg16_weights[16]),\n",
        "    'conv4_3' : tf.constant(vgg16_weights[18]),\n",
        "    \n",
        "    'conv5_1' : tf.constant(vgg16_weights[20]),\n",
        "    'conv5_2' : tf.constant(vgg16_weights[22]),\n",
        "    'conv5_3' : tf.constant(vgg16_weights[24]),\n",
        "}\n",
        "\n",
        "biases = {\n",
        "    'conv1_1' : tf.constant(vgg16_weights[1]),\n",
        "    'conv1_2' : tf.constant(vgg16_weights[3]),\n",
        "    \n",
        "    'conv2_1' : tf.constant(vgg16_weights[5]),\n",
        "    'conv2_2' : tf.constant(vgg16_weights[7]),\n",
        "    \n",
        "    'conv3_1' : tf.constant(vgg16_weights[9]),\n",
        "    'conv3_2' : tf.constant(vgg16_weights[11]),\n",
        "    'conv3_3' : tf.constant(vgg16_weights[13]),\n",
        "    \n",
        "    'conv4_1' : tf.constant(vgg16_weights[15]),\n",
        "    'conv4_2' : tf.constant(vgg16_weights[17]),\n",
        "    'conv4_3' : tf.constant(vgg16_weights[19]),\n",
        "    \n",
        "    'conv5_1' : tf.constant(vgg16_weights[21]),\n",
        "    'conv5_2' : tf.constant(vgg16_weights[23]),\n",
        "    'conv5_3' : tf.constant(vgg16_weights[25]),\n",
        "}\n",
        "\n",
        "# input layer and output layer\n",
        "x = tf.placeholder(tf.float32, [None, height, width, 3])\n",
        "y = tf.placeholder(tf.float32, [None, height, width, 2])"
      ],
      "execution_count": null,
      "outputs": []
    },
    {
      "cell_type": "code",
      "metadata": {
        "id": "EoU4_aC7fBkq"
      },
      "source": [
        "def fcn(x, weights, biases):\n",
        "    # First convolution layers\n",
        "    conv1_1 = tf.nn.conv2d(x, \n",
        "                         weights['conv1_1'], \n",
        "                         strides = [1, 1, 1, 1], \n",
        "                         padding = 'SAME')\n",
        "    conv1_1 = tf.nn.relu(tf.add(conv1_1, biases['conv1_1']))\n",
        "    conv1_2 = tf.nn.conv2d(conv1_1, \n",
        "                         weights['conv1_2'], \n",
        "                         strides = [1, 1, 1, 1], \n",
        "                         padding = 'SAME')\n",
        "    conv1_2 = tf.nn.relu(tf.add(conv1_2, biases['conv1_2']))\n",
        "    maxp1 = tf.nn.max_pool(conv1_2, \n",
        "                           ksize = [1, 2, 2, 1], \n",
        "                           strides = [1, 2, 2, 1], \n",
        "                           padding = 'VALID')\n",
        "\n",
        "    # Second convolution layers\n",
        "    conv2_1 = tf.nn.conv2d(maxp1, \n",
        "                         weights['conv2_1'], \n",
        "                         strides = [1, 1, 1, 1], \n",
        "                         padding = 'SAME')\n",
        "    conv2_1 = tf.nn.relu(tf.add(conv2_1, biases['conv2_1']))\n",
        "    conv2_2 = tf.nn.conv2d(conv2_1, \n",
        "                         weights['conv2_2'], \n",
        "                         strides = [1, 1, 1, 1], \n",
        "                         padding = 'SAME')\n",
        "    conv2_2= tf.nn.relu(tf.add(conv2_2, biases['conv2_2']))\n",
        "    maxp2 = tf.nn.max_pool(conv2_2, \n",
        "                           ksize = [1, 2, 2, 1], \n",
        "                           strides = [1, 2, 2, 1], \n",
        "                           padding = 'VALID')\n",
        "\n",
        "    # third convolution layers\n",
        "    conv3_1 = tf.nn.conv2d(maxp2, \n",
        "                         weights['conv3_1'], \n",
        "                         strides = [1, 1, 1, 1], \n",
        "                         padding = 'SAME')\n",
        "    conv3_1 = tf.nn.relu(tf.add(conv3_1, biases['conv3_1']))\n",
        "    conv3_2 = tf.nn.conv2d(conv3_1, \n",
        "                         weights['conv3_2'], \n",
        "                         strides = [1, 1, 1, 1], \n",
        "                         padding = 'SAME')\n",
        "    conv3_2= tf.nn.relu(tf.add(conv3_2, biases['conv3_2']))\n",
        "    conv3_3 = tf.nn.conv2d(conv3_2, \n",
        "                         weights['conv3_3'], \n",
        "                         strides = [1, 1, 1, 1], \n",
        "                         padding = 'SAME')\n",
        "    conv3_3= tf.nn.relu(tf.add(conv3_3, biases['conv3_3']))\n",
        "    maxp3 = tf.nn.max_pool(conv3_3, \n",
        "                           ksize = [1, 2, 2, 1], \n",
        "                           strides = [1, 2, 2, 1], \n",
        "                           padding = 'VALID')\n",
        "\n",
        "    # fourth convolution layers\n",
        "    conv4_1 = tf.nn.conv2d(maxp3, \n",
        "                         weights['conv4_1'], \n",
        "                         strides = [1, 1, 1, 1], \n",
        "                         padding = 'SAME')\n",
        "    conv4_1 = tf.nn.relu(tf.add(conv4_1, biases['conv4_1']))\n",
        "    conv4_2 = tf.nn.conv2d(conv4_1, \n",
        "                         weights['conv4_2'], \n",
        "                         strides = [1, 1, 1, 1], \n",
        "                         padding = 'SAME')\n",
        "    conv4_2= tf.nn.relu(tf.add(conv4_2, biases['conv4_2']))\n",
        "    conv4_3 = tf.nn.conv2d(conv4_2, \n",
        "                         weights['conv4_3'], \n",
        "                         strides = [1, 1, 1, 1], \n",
        "                         padding = 'SAME')\n",
        "    conv4_3= tf.nn.relu(tf.add(conv4_3, biases['conv4_3']))\n",
        "    maxp4 = tf.nn.max_pool(conv4_3, \n",
        "                           ksize = [1, 2, 2, 1], \n",
        "                           strides = [1, 2, 2, 1], \n",
        "                           padding = 'VALID')\n",
        "\n",
        "    # fifth convolution layers\n",
        "    conv5_1 = tf.nn.conv2d(maxp4, \n",
        "                         weights['conv5_1'], \n",
        "                         strides = [1, 1, 1, 1], \n",
        "                         padding = 'SAME')\n",
        "    conv5_1 = tf.nn.relu(tf.add(conv5_1, biases['conv5_1']))\n",
        "    conv5_2 = tf.nn.conv2d(conv5_1, \n",
        "                         weights['conv5_2'], \n",
        "                         strides = [1, 1, 1, 1], \n",
        "                         padding = 'SAME')\n",
        "    conv5_2= tf.nn.relu(tf.add(conv5_2, biases['conv5_2']))\n",
        "    conv5_3 = tf.nn.conv2d(conv5_2, \n",
        "                         weights['conv5_3'], \n",
        "                         strides = [1, 1, 1, 1], \n",
        "                         padding = 'SAME')\n",
        "    conv5_3= tf.nn.relu(tf.add(conv5_3, biases['conv5_3']))\n",
        "    maxp5 = tf.nn.max_pool(conv5_3, \n",
        "                           ksize = [1, 2, 2, 1], \n",
        "                           strides = [1, 2, 2, 1], \n",
        "                           padding = 'VALID')\n",
        "    \n",
        "    # sixth convolution layer\n",
        "    conv6 = tf.layers.conv2d(maxp5,\n",
        "                            filters = 4096,\n",
        "                            kernel_size = 7,\n",
        "                            padding = 'SAME',\n",
        "                            activation = tf.nn.relu)\n",
        "    \n",
        "    # 1x1 convolution layers\n",
        "    fcn4 = tf.layers.conv2d(conv6,\n",
        "                            filters = 4096,\n",
        "                            kernel_size = 1,\n",
        "                            padding = 'SAME',\n",
        "                            activation = tf.nn.relu)\n",
        "    fcn3 = tf.layers.conv2d(fcn4,\n",
        "                            filters = 3, #2,\n",
        "                            kernel_size = 1,\n",
        "                            padding = 'SAME')\n",
        "\n",
        "    # Upsampling layers\n",
        "    fcn2 = tf.layers.conv2d_transpose(fcn3,\n",
        "                                      filters = 512,\n",
        "                                      kernel_size = 4,\n",
        "                                      strides = (2, 2),\n",
        "                                      padding = 'SAME')\n",
        "    \n",
        "    fcn1 = tf.layers.conv2d_transpose(fcn2 + maxp4,\n",
        "                                      filters = 256,\n",
        "                                      kernel_size = 4,\n",
        "                                      strides = (2, 2),\n",
        "                                      padding = 'SAME')\n",
        "    \n",
        "    output = tf.layers.conv2d_transpose(fcn1 + maxp3, \n",
        "                                     filters = 2, # depend on object #2,\n",
        "                                     kernel_size = 16,\n",
        "                                     strides = (8, 8),\n",
        "                                     padding = 'SAME')\n",
        "\n",
        "    return output"
      ],
      "execution_count": null,
      "outputs": []
    },
    {
      "cell_type": "code",
      "metadata": {
        "id": "Nu-MNe_3fBi4"
      },
      "source": [
        "LR  = 0.001 # we can try to change option\n",
        "\n",
        "pred = fcn(x, weights, biases)\n",
        "logits = tf.reshape(pred, (-1, 2))\n",
        "labels = tf.reshape(y, (-1, 2))\n",
        "\n",
        "loss = tf.nn.softmax_cross_entropy_with_logits_v2(logits = logits, labels = labels)\n",
        "loss = tf.reduce_mean(loss)\n",
        "\n",
        "optm  = tf.train.AdamOptimizer(LR).minimize(loss)"
      ],
      "execution_count": null,
      "outputs": []
    },
    {
      "cell_type": "code",
      "metadata": {
        "id": "rx5hDlmAjLrG"
      },
      "source": [
        "def train_batch_maker(batch_size):\n",
        "    random_idx = np.random.randint(Nimgs, size = batch_size)\n",
        "    #print (\"Epoch : {}\".format(random_idx))\n",
        "    return train_imgs[random_idx], train_seg[random_idx]"
      ],
      "execution_count": null,
      "outputs": []
    },
    {
      "cell_type": "code",
      "metadata": {
        "id": "MQL-KyrOmPPQ"
      },
      "source": [
        "n_batch = 5 # we can try to change option\n",
        "n_epoch = 200 # we can try to change option\n",
        "n_prt = 10     # depend on object\n",
        "\n",
        "sess = tf.Session()\n",
        "sess.run(tf.global_variables_initializer())\n",
        "loss_record_train = []"
      ],
      "execution_count": null,
      "outputs": []
    },
    {
      "cell_type": "code",
      "metadata": {
        "id": "6HqwAJyMjl0i",
        "colab": {
          "base_uri": "https://localhost:8080/",
          "height": 737
        },
        "outputId": "9662733a-2e5d-4f20-fe1b-dfc313e8ae36"
      },
      "source": [
        "for epoch in range(n_epoch):\n",
        "    train_x, train_y = train_batch_maker(n_batch)\n",
        "    sess.run(optm, feed_dict = {x: train_x, y: train_y})\n",
        "\n",
        "    if epoch % n_prt == 0:        \n",
        "        c = sess.run(loss, feed_dict = {x: train_x, y: train_y})\n",
        "        loss_record_train.append(c)\n",
        "        print (\"Epoch : {}\".format(epoch))\n",
        "        print (\"Cost : {}\".format(c))\n",
        "        \n"
      ],
      "execution_count": null,
      "outputs": [
        {
          "output_type": "stream",
          "text": [
            "Epoch : 0\n",
            "Cost : 0.0859537348151207\n",
            "Epoch : 10\n",
            "Cost : 0.05546261742711067\n",
            "Epoch : 20\n",
            "Cost : 0.02024809457361698\n",
            "Epoch : 30\n",
            "Cost : 0.02866581454873085\n",
            "Epoch : 40\n",
            "Cost : 0.011036795563995838\n",
            "Epoch : 50\n",
            "Cost : 0.00913210492581129\n",
            "Epoch : 60\n",
            "Cost : 0.0070901247672736645\n",
            "Epoch : 70\n",
            "Cost : 0.005691873375326395\n",
            "Epoch : 80\n",
            "Cost : 0.0063706799410283566\n",
            "Epoch : 90\n",
            "Cost : 0.0054031237959861755\n",
            "Epoch : 100\n",
            "Cost : 0.0040895454585552216\n",
            "Epoch : 110\n",
            "Cost : 0.0051912968046963215\n",
            "Epoch : 120\n",
            "Cost : 0.004491347819566727\n",
            "Epoch : 130\n",
            "Cost : 0.005337880924344063\n",
            "Epoch : 140\n",
            "Cost : 0.004135415889322758\n",
            "Epoch : 150\n",
            "Cost : 0.003351920982822776\n",
            "Epoch : 160\n",
            "Cost : 0.003524922067299485\n",
            "Epoch : 170\n",
            "Cost : 0.0033523524180054665\n",
            "Epoch : 180\n",
            "Cost : 0.004940088372677565\n",
            "Epoch : 190\n",
            "Cost : 0.004613571334630251\n"
          ],
          "name": "stdout"
        }
      ]
    },
    {
      "cell_type": "code",
      "metadata": {
        "id": "JGiWasAGj_IX"
      },
      "source": [
        "plt.figure(figsize = (10,8))\n",
        "plt.plot(np.arange(len(loss_record_train))*n_prt, loss_record_train, label = 'training')\n",
        "plt.xlabel('epoch', fontsize = 15)\n",
        "plt.ylabel('loss', fontsize = 15)\n",
        "plt.legend(fontsize = 12)\n",
        "plt.ylim([0, np.max(loss_record_train)])\n",
        "plt.show()"
      ],
      "execution_count": null,
      "outputs": []
    },
    {
      "cell_type": "markdown",
      "source": [
        "## Generate using test dataset & Saving Data"
      ],
      "metadata": {
        "id": "CMcp_aYz1PMb"
      }
    },
    {
      "cell_type": "code",
      "metadata": {
        "id": "KX7bkJlssLNy"
      },
      "source": [
        "def test_batch_maker(batch_size):\n",
        "    data1 = [batch_size]\n",
        "    random_idx = np.array(data1)\n",
        "#    for path, subdirs, files in os.walk(original_imgs_test): #list all files, directories in the path\n",
        "#      for i in range(len(files)):\n",
        "#          if files[i][0:3] == '%03d' %random_idx:\n",
        "    print (\"test image: \" + str(random_idx)) \n",
        "#              data2=[i]\n",
        "#              random_idx=np.array(data2)\n",
        "            \n",
        "    return test_imgs[random_idx]"
      ],
      "execution_count": null,
      "outputs": []
    },
    {
      "cell_type": "code",
      "metadata": {
        "id": "0zYdG8pSfqtK"
      },
      "source": [
        "#plt.figure(figsize = (16,16))\n",
        "i = 0\n",
        "while i <= 79:\n",
        "#for path, subdirs, files in os.walk(original_imgs_test): #list all files, directories in the path\n",
        "#  for i in range(len(files)):\n",
        "  test_x = test_batch_maker(i)\n",
        "  #plt.subplot(10,10,i)\n",
        "  test_img = sess.run(tf.nn.softmax(logits), feed_dict = {x: test_x})\n",
        "  test_img = test_img[:, 0].reshape(height, width)\n",
        "  segmentation = (test_img > 0.5).reshape(height, width, 1)\n",
        "  #segmentation1 = (test_img > 0.5).reshape(height, width)\n",
        "\n",
        "  mask = np.dot(segmentation, np.array([[0, 255, 0, 127]]))\n",
        "  mask = Image.fromarray((mask).astype('uint8'), mode = \"RGBA\")\n",
        "  street_im = Image.fromarray((test_x[0] * 255).astype('uint8'))\n",
        "  street_im.paste(mask, box = None, mask = mask)\n",
        "\n",
        "\n",
        "  dir_street_im = '/content/gdrive/My Drive/PLOS/Total_FCN_Result_200_SY/images/%04d.jpg' %i\n",
        "  dir_mask = '/content/gdrive/My Drive/PLOS/Total_FCN_Result_200_SY/mask/%04d_mask.gif' %i\n",
        "\n",
        "  street_im.save(dir_street_im)\n",
        "  mask.save(dir_mask)\n",
        "\n",
        "  i += 1\n",
        "    \n"
      ],
      "execution_count": null,
      "outputs": []
    }
  ]
}